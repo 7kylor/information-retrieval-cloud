{
 "cells": [
  {
   "cell_type": "code",
   "execution_count": 10,
   "metadata": {},
   "outputs": [
    {
     "name": "stdout",
     "output_type": "stream",
     "text": [
      "Extraction complete. Products saved to products.csv\n"
     ]
    }
   ],
   "source": [
    "# Lab Build Python Web Crawler\n",
    "import requests\n",
    "from bs4 import BeautifulSoup\n",
    "import csv\n",
    "\n",
    "\n",
    "urls = [\"https://scrapeme.live/shop/\"]\n",
    "products = []\n",
    "max_pages = 5\n",
    "\n",
    "def extract_products_from_page(url):\n",
    "    response = requests.get(url)\n",
    "    soup = BeautifulSoup(response.content, \"html.parser\")\n",
    "    products_on_page = soup.find_all(\"li\", class_=\"product\")\n",
    "    for product_element in products_on_page:\n",
    "        product = {}\n",
    "        product['url'] = product_element.find('a')['href']\n",
    "        product['image'] = product_element.find('img')['src']\n",
    "        product['title'] = product_element.find('h2', class_='woocommerce-loop-product__title').text.strip()\n",
    "        products.append(product)\n",
    "        price_element = product_element.find('span', class_='woocommerce-Price-amount')\n",
    "\n",
    "\n",
    "    if price_element:\n",
    "        product['price'] = price_element.text.strip()\n",
    "    else:\n",
    "        product['price'] = 'Price not available'\n",
    "        \n",
    "    products.append(product)\n",
    "\n",
    "for url in urls:\n",
    "    extract_products_from_page(url)\n",
    "    max_pages -= 1\n",
    "    if max_pages == 0:\n",
    "        break\n",
    "    \n",
    "with open('products.csv', 'w', newline='', encoding='utf-8') as csv_file:\n",
    "    writer = csv.DictWriter(csv_file, fieldnames=['url', 'image', 'title', 'price'])\n",
    "    writer.writeheader()\n",
    "    for product in products:\n",
    "        writer.writerow(product)\n",
    "print(\"Extraction complete. Products saved to products.csv\")\n",
    "\n",
    " "
   ]
  }
 ],
 "metadata": {
  "kernelspec": {
   "display_name": "Python 3",
   "language": "python",
   "name": "python3"
  },
  "language_info": {
   "codemirror_mode": {
    "name": "ipython",
    "version": 3
   },
   "file_extension": ".py",
   "mimetype": "text/x-python",
   "name": "python",
   "nbconvert_exporter": "python",
   "pygments_lexer": "ipython3",
   "version": "3.12.4"
  }
 },
 "nbformat": 4,
 "nbformat_minor": 2
}
