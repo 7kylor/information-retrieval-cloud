{
	"cells": [
		{
			"cell_type": "code",
			"execution_count": 1,
			"metadata": {},
			"outputs": [
				{
					"name": "stdout",
					"output_type": "stream",
					"text": [
						"Predicted Species: H\n"
					]
				}
			],
			"source": [
				"import numpy as np\n",
				"from sklearn.naive_bayes import GaussianNB\n",
				"from sklearn.preprocessing import LabelEncoder\n",
				"\n",
				"# Dataset\n",
				"data = {\n",
				"    \"Color\": [\"White\", \"Green\", \"Green\", \"White\", \"Green\", \"White\", \"White\", \"White\"],\n",
				"    \"Legs\": [3, 2, 3, 3, 2, 2, 2, 2],\n",
				"    \"Height\": [\"Short\", \"Tall\", \"Short\", \"Short\", \"Short\", \"Tall\", \"Tall\", \"Short\"],\n",
				"    \"Smelly\": [\"Yes\", \"No\", \"Yes\", \"Yes\", \"No\", \"No\", \"No\", \"Yes\"],\n",
				"    \"Species\": [\"M\", \"M\", \"M\", \"M\", \"H\", \"H\", \"H\", \"H\"]\n",
				"}\n",
				"\n",
				"# Function to encode data\n",
				"def encode_data(data, encoders=None):\n",
				"    if encoders is None:\n",
				"        encoders = {attr: LabelEncoder().fit(data[attr]) for attr in data}\n",
				"    encoded_data = np.column_stack([encoders[attr].transform(data[attr]) for attr in data])\n",
				"    return encoded_data, encoders\n",
				"\n",
				"# Encode features\n",
				"X, encoders = encode_data({attr: data[attr] for attr in data if attr != \"Species\"})\n",
				"\n",
				"# Encode target separately to avoid the above issue\n",
				"y_encoder = LabelEncoder()\n",
				"y = y_encoder.fit_transform(data[\"Species\"])\n",
				"\n",
				"# Train the Gaussian Naive Bayes model\n",
				"model = GaussianNB()\n",
				"model.fit(X, y)\n",
				"\n",
				"# Function to predict new entity\n",
				"def predict_new_entity(model, new_entity, encoders, y_encoder):\n",
				"    new_entity_encoded = [encoders[attr].transform([new_entity[attr]])[0] for attr in new_entity]\n",
				"    predicted_species_encoded = model.predict([new_entity_encoded])\n",
				"    predicted_species = y_encoder.inverse_transform(predicted_species_encoded)\n",
				"    return predicted_species[0]\n",
				"\n",
				"# Predict species for the new entity\n",
				"new_entity = {\"Color\": \"Green\", \"Legs\": 2, \"Height\": \"Tall\", \"Smelly\": \"No\"}\n",
				"predicted_species = predict_new_entity(model, new_entity, encoders, y_encoder)\n",
				"print(\"Predicted Species:\", predicted_species)\n"
			]
		}
	],
	"metadata": {
		"kernelspec": {
			"display_name": "Python 3",
			"language": "python",
			"name": "python3"
		},
		"language_info": {
			"codemirror_mode": {
				"name": "ipython",
				"version": 3
			},
			"file_extension": ".py",
			"mimetype": "text/x-python",
			"name": "python",
			"nbconvert_exporter": "python",
			"pygments_lexer": "ipython3",
			"version": "3.12.4"
		}
	},
	"nbformat": 4,
	"nbformat_minor": 2
}
