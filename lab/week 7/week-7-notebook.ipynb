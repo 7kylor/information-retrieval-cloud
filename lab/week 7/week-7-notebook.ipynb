{
	"cells": [
		{
			"cell_type": "code",
			"execution_count": 1,
			"metadata": {},
			"outputs": [
				{
					"name": "stdout",
					"output_type": "stream",
					"text": [
						"Predicted Species: H\n"
					]
				}
			],
			"source": [
				"# Part 1: Import required libraries\n",
				"import numpy as np\n",
				"from sklearn.naive_bayes import GaussianNB\n",
				"from sklearn.preprocessing import LabelEncoder\n",
				"\n",
				"# Part 2: Define the dataset\n",
				"data = {\n",
				"    \"Color\": [\"White\", \"Green\", \"Green\", \"White\", \"Green\", \"White\", \"White\", \"White\"],\n",
				"    \"Legs\": [3, 2, 3, 3, 2, 2, 2, 2],\n",
				"    \"Height\": [\"Short\", \"Tall\", \"Short\", \"Short\", \"Short\", \"Tall\", \"Tall\", \"Short\"],\n",
				"    \"Smelly\": [\"Yes\", \"No\", \"Yes\", \"Yes\", \"No\", \"No\", \"No\", \"Yes\"],\n",
				"    \"Species\": [\"M\", \"M\", \"M\", \"M\", \"H\", \"H\", \"H\", \"H\"]\n",
				"}\n",
				"\n",
				"# Part 3: Create Label Encoder for features\n",
				"encoder = LabelEncoder()\n",
				"encoder.fit(np.concatenate([data[attr] for attr in data if attr != \"Species\"]))\n",
				"\n",
				"# Part 4: Encode features and target\n",
				"X = np.column_stack([encoder.transform(data[attr]) for attr in data if attr != \"Species\"])\n",
				"y_encoder = LabelEncoder()\n",
				"y = y_encoder.fit_transform(data[\"Species\"])\n",
				"\n",
				"# Part 5: Train the Gaussian Naive Bayes model\n",
				"model = GaussianNB()\n",
				"model.fit(X, y)\n",
				"\n",
				"# Part 6: Define and encode new entity\n",
				"new_entity = {\"Color\": \"Green\", \"Legs\": 2, \"Height\": \"Tall\", \"Smelly\": \"No\"}\n",
				"new_entity_encoded = [encoder.transform([new_entity[attr]])[0] for attr in new_entity]\n",
				"\n",
				"# Part 7: Make prediction\n",
				"predicted_species_encoded = model.predict([new_entity_encoded])\n",
				"predicted_species = y_encoder.inverse_transform(predicted_species_encoded)\n",
				"print(\"Predicted Species:\", predicted_species[0])"
			]
		}
	],
	"metadata": {
		"kernelspec": {
			"display_name": "Python 3",
			"language": "python",
			"name": "python3"
		},
		"language_info": {
			"codemirror_mode": {
				"name": "ipython",
				"version": 3
			},
			"file_extension": ".py",
			"mimetype": "text/x-python",
			"name": "python",
			"nbconvert_exporter": "python",
			"pygments_lexer": "ipython3",
			"version": "3.12.4"
		}
	},
	"nbformat": 4,
	"nbformat_minor": 2
}
