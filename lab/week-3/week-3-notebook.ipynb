{
 "cells": [
  {
   "cell_type": "code",
   "execution_count": 22,
   "metadata": {},
   "outputs": [
    {
     "name": "stdout",
     "output_type": "stream",
     "text": [
      "Word Frequencies:  [{'the': 0, 'dog': 0, 'is': 0, 'lazy': 0, 'and': 0, 'fox': 0, 'quick': 1}]\n",
      "{'fox': 0.0, 'dog': 0.0, 'quick': 1.0}\n"
     ]
    }
   ],
   "source": [
    "# Semantic Web Retrieval Project\n",
    "\n",
    "# Find the Weights of specific Term in given Documents Using\n",
    "# Python.\n",
    "    \n",
    "\n",
    "\n",
    "document =[\"The brown fox jumps over the lazy dog\",\n",
    "\"The quick brown dog outran the lazy fox\",\n",
    "\"The dog is lazy and the fox is quick\"]\n",
    "\n",
    "processed_docs = [doc.lower().split() for doc in document]\n",
    "\n",
    "word_freqs =[]\n",
    "for doc in processed_docs:\n",
    "    word_freq ={}\n",
    "    for word in doc:     \n",
    "        if word not in word_freq:\n",
    "          word_freq[word] = 0\n",
    "    word_freq[word] += 1\n",
    "data = word_freqs.append(word_freq)\n",
    "\n",
    "print(\"Word Frequencies: \", word_freqs)\n",
    "\n",
    "\n",
    "vocabulary = set()\n",
    "for word_freq in word_freqs:\n",
    "    vocabulary.update(word_freq.keys())\n",
    "    \n",
    "\n",
    "query = 'fox dog quick'\n",
    "query_words = query.lower().split()\n",
    "query_weights = {}\n",
    "for word in query_words:\n",
    "    if word not in vocabulary:\n",
    "        continue\n",
    "    query_weights[word]=0\n",
    "    for word_freq in word_freqs:\n",
    "        query_weights[word]+= word_freq.get(word,0)\n",
    "        \n",
    "\n",
    "total_weight = sum(query_weights.values())\n",
    "\n",
    "if total_weight > 0:\n",
    "    for word in query_weights:\n",
    "        query_weights[word] /= total_weight\n",
    "else:\n",
    "    print(\"No terms found in documents for the given query.\")\n",
    "\n",
    "print(query_weights)\n",
    "\n"
   ]
  }
 ],
 "metadata": {
  "kernelspec": {
   "display_name": "Python 3",
   "language": "python",
   "name": "python3"
  },
  "language_info": {
   "codemirror_mode": {
    "name": "ipython",
    "version": 3
   },
   "file_extension": ".py",
   "mimetype": "text/x-python",
   "name": "python",
   "nbconvert_exporter": "python",
   "pygments_lexer": "ipython3",
   "version": "3.12.4"
  }
 },
 "nbformat": 4,
 "nbformat_minor": 2
}
